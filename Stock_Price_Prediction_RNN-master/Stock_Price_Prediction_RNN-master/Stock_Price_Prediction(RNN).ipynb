{
  "nbformat": 4,
  "nbformat_minor": 0,
  "metadata": {
    "colab": {
      "name": "Stock_Price_Prediction(RNN).ipynb",
      "provenance": [],
      "mount_file_id": "1xkzeG94818iT3Qn7xbgJgSnsPBgvxY9H",
      "authorship_tag": "ABX9TyNH99cEEP4zIoDqWTzJyld/",
      "include_colab_link": true
    },
    "kernelspec": {
      "name": "python3",
      "display_name": "Python 3"
    },
    "accelerator": "GPU"
  },
  "cells": [
    {
      "cell_type": "markdown",
      "metadata": {
        "id": "view-in-github",
        "colab_type": "text"
      },
      "source": [
        "<a href=\"https://colab.research.google.com/github/ayushkesh/Stock_Price_Prediction_RNN/blob/master/Stock_Price_Prediction(RNN).ipynb\" target=\"_parent\"><img src=\"https://colab.research.google.com/assets/colab-badge.svg\" alt=\"Open In Colab\"/></a>"
      ]
    },
    {
      "cell_type": "markdown",
      "metadata": {
        "id": "jzzSCwNQ85Ko",
        "colab_type": "text"
      },
      "source": [
        "# Stock Price Prediction by using RNN {Deep Learning}\n",
        "\n",
        "Real time data set obtained from google, \n",
        "I have used open feature to predict next day open value."
      ]
    },
    {
      "cell_type": "code",
      "metadata": {
        "id": "vKoDZ55V9cOI",
        "colab_type": "code",
        "colab": {}
      },
      "source": [
        "import matplotlib.pyplot as plt\n",
        "import pandas as pd\n",
        "import numpy as np\n"
      ],
      "execution_count": 0,
      "outputs": []
    },
    {
      "cell_type": "markdown",
      "metadata": {
        "id": "oS4Yhg5X-Kg8",
        "colab_type": "text"
      },
      "source": [
        "# Importing the training datas test"
      ]
    },
    {
      "cell_type": "code",
      "metadata": {
        "id": "j8Aq-fZM9oM9",
        "colab_type": "code",
        "colab": {}
      },
      "source": [
        "dataset_train= pd.read_csv('/content/drive/My Drive/Stock-Price-Prediction-using-Keras-and-Recurrent-Neural-Networ-master/Stock-Price-Prediction-using-Keras-and-Recurrent-Neural-Networ-master/Google_Stock_Price_Train.csv')"
      ],
      "execution_count": 0,
      "outputs": []
    },
    {
      "cell_type": "code",
      "metadata": {
        "id": "GqzpuqsN9cwb",
        "colab_type": "code",
        "colab": {}
      },
      "source": [
        "training_set= dataset_train.iloc[:,1:2].values"
      ],
      "execution_count": 0,
      "outputs": []
    },
    {
      "cell_type": "markdown",
      "metadata": {
        "id": "mB64Pbin-9gc",
        "colab_type": "text"
      },
      "source": [
        "# Step 2: Feature Scaling "
      ]
    },
    {
      "cell_type": "code",
      "metadata": {
        "id": "6m2ioimQ-7yT",
        "colab_type": "code",
        "colab": {}
      },
      "source": [
        "from sklearn.preprocessing import MinMaxScaler\n",
        "sca= MinMaxScaler()\n",
        "training_set_scaled= sca.fit_transform(training_set)\n"
      ],
      "execution_count": 0,
      "outputs": []
    },
    {
      "cell_type": "markdown",
      "metadata": {
        "id": "feaAUdK_AExG",
        "colab_type": "text"
      },
      "source": [
        "# Step 3: Preprocessing , creating timestamp  \n",
        "# 1 2 3 4 5\n",
        "# 2 3 4 5 6\n",
        "# 3 4 5 6 7\n",
        "# 4 5 6 7 8\n",
        "# .\n",
        "# . \n",
        "# .\n"
      ]
    },
    {
      "cell_type": "markdown",
      "metadata": {
        "id": "S77qoKiO-8yH",
        "colab_type": "text"
      },
      "source": [
        ""
      ]
    },
    {
      "cell_type": "code",
      "metadata": {
        "id": "9wnnv0Mf-75Q",
        "colab_type": "code",
        "colab": {}
      },
      "source": [
        "# lets make 70 timestep and 1 output  \n",
        "\n",
        "X_train=[]\n",
        "y_train=[]\n",
        "\n",
        "for i in range(60, 1258):\n",
        "  X_train.append(training_set_scaled[i-60:i,0])\n",
        "  y_train.append(training_set_scaled[i,0])\n",
        "X_train,y_train= np.array(X_train), np.array(y_train)\n",
        "\n"
      ],
      "execution_count": 0,
      "outputs": []
    },
    {
      "cell_type": "markdown",
      "metadata": {
        "id": "noO5gJZfCeue",
        "colab_type": "text"
      },
      "source": [
        "Reshaping for RNN"
      ]
    },
    {
      "cell_type": "code",
      "metadata": {
        "id": "aJUzIiYV-77_",
        "colab_type": "code",
        "colab": {}
      },
      "source": [
        "X_train = np.reshape(X_train, (X_train.shape[0], X_train.shape[1],1))"
      ],
      "execution_count": 0,
      "outputs": []
    },
    {
      "cell_type": "markdown",
      "metadata": {
        "id": "494vtoSmC2SI",
        "colab_type": "text"
      },
      "source": [
        "# Step 4: Building RNN"
      ]
    },
    {
      "cell_type": "code",
      "metadata": {
        "id": "LH4MmNKD-7-k",
        "colab_type": "code",
        "colab": {}
      },
      "source": [
        "from keras.models import Sequential\n",
        "from keras.layers import Dense\n",
        "from keras.layers import LSTM\n",
        "from keras.layers import Dropout"
      ],
      "execution_count": 0,
      "outputs": []
    },
    {
      "cell_type": "code",
      "metadata": {
        "id": "nOuU0wpS-8Dq",
        "colab_type": "code",
        "colab": {}
      },
      "source": [
        "regressor = Sequential()\n",
        "\n",
        "# first LSTM layer and Dropout regularization\n",
        "# Adding the first LSTM layer and some Dropout regularisation\n",
        "regressor.add(LSTM(units = 50, return_sequences = True, input_shape = (X_train.shape[1], 1)))\n",
        "regressor.add(Dropout(0.2))\n",
        "\n",
        "# Adding a second LSTM layer and some Dropout regularisation\n",
        "regressor.add(LSTM(units = 50, return_sequences = True))\n",
        "regressor.add(Dropout(0.2))\n",
        "\n",
        "# Adding a third LSTM layer and some Dropout regularisation\n",
        "regressor.add(LSTM(units = 50, return_sequences = True))\n",
        "regressor.add(Dropout(0.2))\n",
        "\n",
        "# Adding a fourth LSTM layer and some Dropout regularisation\n",
        "regressor.add(LSTM(units = 50))\n",
        "regressor.add(Dropout(0.2))\n",
        "\n",
        "\n",
        "\n"
      ],
      "execution_count": 0,
      "outputs": []
    },
    {
      "cell_type": "code",
      "metadata": {
        "id": "FRsoKKAm-8HE",
        "colab_type": "code",
        "colab": {}
      },
      "source": [
        "# Adding the output layer\n",
        "regressor.add(Dense(units = 1))\n"
      ],
      "execution_count": 0,
      "outputs": []
    },
    {
      "cell_type": "code",
      "metadata": {
        "id": "Rd2JebDyFW3k",
        "colab_type": "code",
        "colab": {}
      },
      "source": [
        "# Compiling the RNN\n",
        "regressor.compile(optimizer = 'adam', loss = 'mean_squared_error')\n"
      ],
      "execution_count": 0,
      "outputs": []
    },
    {
      "cell_type": "code",
      "metadata": {
        "id": "dtRaHOALFY4Z",
        "colab_type": "code",
        "outputId": "64a3121b-341a-423a-8050-fcbe32fd0d57",
        "colab": {
          "base_uri": "https://localhost:8080/",
          "height": 1000
        }
      },
      "source": [
        "\n",
        "# Fitting the RNN to the Training set\n",
        "regressor.fit(X_train, y_train, epochs = 100, batch_size = 32)"
      ],
      "execution_count": 0,
      "outputs": [
        {
          "output_type": "stream",
          "text": [
            "Epoch 1/100\n",
            "1198/1198 [==============================] - 15s 13ms/step - loss: 0.0017\n",
            "Epoch 2/100\n",
            "1198/1198 [==============================] - 15s 12ms/step - loss: 0.0018\n",
            "Epoch 3/100\n",
            "1198/1198 [==============================] - 15s 12ms/step - loss: 0.0016\n",
            "Epoch 4/100\n",
            "1198/1198 [==============================] - 15s 13ms/step - loss: 0.0018\n",
            "Epoch 5/100\n",
            "1198/1198 [==============================] - 15s 13ms/step - loss: 0.0016\n",
            "Epoch 6/100\n",
            "1198/1198 [==============================] - 15s 12ms/step - loss: 0.0017\n",
            "Epoch 7/100\n",
            "1198/1198 [==============================] - 15s 12ms/step - loss: 0.0015\n",
            "Epoch 8/100\n",
            "1198/1198 [==============================] - 15s 12ms/step - loss: 0.0014\n",
            "Epoch 9/100\n",
            "1198/1198 [==============================] - 15s 12ms/step - loss: 0.0016\n",
            "Epoch 10/100\n",
            "1198/1198 [==============================] - 15s 12ms/step - loss: 0.0016\n",
            "Epoch 11/100\n",
            "1198/1198 [==============================] - 15s 13ms/step - loss: 0.0014\n",
            "Epoch 12/100\n",
            "1198/1198 [==============================] - 15s 12ms/step - loss: 0.0016\n",
            "Epoch 13/100\n",
            "1198/1198 [==============================] - 15s 12ms/step - loss: 0.0013\n",
            "Epoch 14/100\n",
            "1198/1198 [==============================] - 15s 12ms/step - loss: 0.0015\n",
            "Epoch 15/100\n",
            "1198/1198 [==============================] - 15s 12ms/step - loss: 0.0016\n",
            "Epoch 16/100\n",
            "1198/1198 [==============================] - 15s 13ms/step - loss: 0.0014\n",
            "Epoch 17/100\n",
            "1198/1198 [==============================] - 15s 12ms/step - loss: 0.0014\n",
            "Epoch 18/100\n",
            "1198/1198 [==============================] - 15s 12ms/step - loss: 0.0015\n",
            "Epoch 19/100\n",
            "1198/1198 [==============================] - 15s 13ms/step - loss: 0.0013\n",
            "Epoch 20/100\n",
            "1198/1198 [==============================] - 15s 12ms/step - loss: 0.0014\n",
            "Epoch 21/100\n",
            "1198/1198 [==============================] - 15s 12ms/step - loss: 0.0014\n",
            "Epoch 22/100\n",
            "1198/1198 [==============================] - 15s 12ms/step - loss: 0.0015\n",
            "Epoch 23/100\n",
            "1198/1198 [==============================] - 15s 12ms/step - loss: 0.0015\n",
            "Epoch 24/100\n",
            "1198/1198 [==============================] - 15s 12ms/step - loss: 0.0014\n",
            "Epoch 25/100\n",
            "1198/1198 [==============================] - 14s 12ms/step - loss: 0.0013\n",
            "Epoch 26/100\n",
            "1198/1198 [==============================] - 15s 12ms/step - loss: 0.0013\n",
            "Epoch 27/100\n",
            "1198/1198 [==============================] - 14s 12ms/step - loss: 0.0013\n",
            "Epoch 28/100\n",
            "1198/1198 [==============================] - 14s 12ms/step - loss: 0.0013\n",
            "Epoch 29/100\n",
            "1198/1198 [==============================] - 15s 12ms/step - loss: 0.0014\n",
            "Epoch 30/100\n",
            "1198/1198 [==============================] - 15s 12ms/step - loss: 0.0014\n",
            "Epoch 31/100\n",
            "1198/1198 [==============================] - 14s 12ms/step - loss: 0.0015\n",
            "Epoch 32/100\n",
            "1198/1198 [==============================] - 15s 12ms/step - loss: 0.0015\n",
            "Epoch 33/100\n",
            "1198/1198 [==============================] - 15s 12ms/step - loss: 0.0013\n",
            "Epoch 34/100\n",
            "1198/1198 [==============================] - 15s 12ms/step - loss: 0.0012\n",
            "Epoch 35/100\n",
            "1198/1198 [==============================] - 15s 12ms/step - loss: 0.0012\n",
            "Epoch 36/100\n",
            "1198/1198 [==============================] - 15s 12ms/step - loss: 0.0013\n",
            "Epoch 37/100\n",
            "1198/1198 [==============================] - 14s 12ms/step - loss: 0.0013\n",
            "Epoch 38/100\n",
            "1198/1198 [==============================] - 14s 12ms/step - loss: 0.0012\n",
            "Epoch 39/100\n",
            "1198/1198 [==============================] - 15s 12ms/step - loss: 0.0013\n",
            "Epoch 40/100\n",
            "1198/1198 [==============================] - 14s 12ms/step - loss: 0.0016\n",
            "Epoch 41/100\n",
            "1198/1198 [==============================] - 14s 12ms/step - loss: 0.0013\n",
            "Epoch 42/100\n",
            "1198/1198 [==============================] - 14s 12ms/step - loss: 0.0013\n",
            "Epoch 43/100\n",
            "1198/1198 [==============================] - 14s 12ms/step - loss: 0.0012\n",
            "Epoch 44/100\n",
            "1198/1198 [==============================] - 14s 12ms/step - loss: 0.0013\n",
            "Epoch 45/100\n",
            "1198/1198 [==============================] - 14s 12ms/step - loss: 0.0011\n",
            "Epoch 46/100\n",
            "1198/1198 [==============================] - 14s 12ms/step - loss: 0.0012\n",
            "Epoch 47/100\n",
            "1198/1198 [==============================] - 14s 12ms/step - loss: 0.0012\n",
            "Epoch 48/100\n",
            "1198/1198 [==============================] - 14s 12ms/step - loss: 0.0012\n",
            "Epoch 49/100\n",
            "1198/1198 [==============================] - 14s 12ms/step - loss: 0.0013\n",
            "Epoch 50/100\n",
            "1198/1198 [==============================] - 14s 12ms/step - loss: 0.0013\n",
            "Epoch 51/100\n",
            "1198/1198 [==============================] - 15s 12ms/step - loss: 0.0014\n",
            "Epoch 52/100\n",
            "1198/1198 [==============================] - 15s 12ms/step - loss: 0.0011\n",
            "Epoch 53/100\n",
            "1198/1198 [==============================] - 14s 12ms/step - loss: 0.0013\n",
            "Epoch 54/100\n",
            "1198/1198 [==============================] - 15s 12ms/step - loss: 0.0013\n",
            "Epoch 55/100\n",
            "1198/1198 [==============================] - 14s 12ms/step - loss: 0.0012\n",
            "Epoch 56/100\n",
            "1198/1198 [==============================] - 15s 12ms/step - loss: 0.0011\n",
            "Epoch 57/100\n",
            "1198/1198 [==============================] - 14s 12ms/step - loss: 0.0012\n",
            "Epoch 58/100\n",
            "1198/1198 [==============================] - 15s 12ms/step - loss: 0.0013\n",
            "Epoch 59/100\n",
            "1198/1198 [==============================] - 15s 12ms/step - loss: 0.0012\n",
            "Epoch 60/100\n",
            "1198/1198 [==============================] - 15s 12ms/step - loss: 0.0012\n",
            "Epoch 61/100\n",
            "1198/1198 [==============================] - 14s 12ms/step - loss: 0.0011\n",
            "Epoch 62/100\n",
            "1198/1198 [==============================] - 14s 12ms/step - loss: 9.7737e-04\n",
            "Epoch 63/100\n",
            "1198/1198 [==============================] - 14s 12ms/step - loss: 9.7231e-04\n",
            "Epoch 64/100\n",
            "1198/1198 [==============================] - 14s 12ms/step - loss: 0.0011\n",
            "Epoch 65/100\n",
            "1198/1198 [==============================] - 14s 12ms/step - loss: 0.0011\n",
            "Epoch 66/100\n",
            "1198/1198 [==============================] - 14s 12ms/step - loss: 0.0011\n",
            "Epoch 67/100\n",
            "1198/1198 [==============================] - 14s 12ms/step - loss: 0.0012\n",
            "Epoch 68/100\n",
            "1198/1198 [==============================] - 14s 12ms/step - loss: 0.0011\n",
            "Epoch 69/100\n",
            "1198/1198 [==============================] - 14s 12ms/step - loss: 0.0011\n",
            "Epoch 70/100\n",
            "1198/1198 [==============================] - 14s 12ms/step - loss: 0.0011\n",
            "Epoch 71/100\n",
            "1198/1198 [==============================] - 14s 12ms/step - loss: 0.0011\n",
            "Epoch 72/100\n",
            "1198/1198 [==============================] - 14s 12ms/step - loss: 0.0012\n",
            "Epoch 73/100\n",
            "1198/1198 [==============================] - 14s 12ms/step - loss: 0.0011\n",
            "Epoch 74/100\n",
            "1198/1198 [==============================] - 14s 12ms/step - loss: 0.0012\n",
            "Epoch 75/100\n",
            "1198/1198 [==============================] - 14s 12ms/step - loss: 0.0015\n",
            "Epoch 76/100\n",
            "1198/1198 [==============================] - 14s 12ms/step - loss: 0.0015\n",
            "Epoch 77/100\n",
            "1198/1198 [==============================] - 14s 12ms/step - loss: 0.0011\n",
            "Epoch 78/100\n",
            "1198/1198 [==============================] - 14s 12ms/step - loss: 0.0011\n",
            "Epoch 79/100\n",
            "1198/1198 [==============================] - 14s 12ms/step - loss: 0.0011\n",
            "Epoch 80/100\n",
            "1198/1198 [==============================] - 14s 12ms/step - loss: 0.0011\n",
            "Epoch 81/100\n",
            "1198/1198 [==============================] - 14s 12ms/step - loss: 0.0011\n",
            "Epoch 82/100\n",
            "1198/1198 [==============================] - 14s 12ms/step - loss: 0.0011\n",
            "Epoch 83/100\n",
            "1198/1198 [==============================] - 15s 12ms/step - loss: 0.0012\n",
            "Epoch 84/100\n",
            "1198/1198 [==============================] - 14s 12ms/step - loss: 0.0011\n",
            "Epoch 85/100\n",
            "1198/1198 [==============================] - 15s 12ms/step - loss: 0.0011\n",
            "Epoch 86/100\n",
            "1198/1198 [==============================] - 14s 12ms/step - loss: 0.0011\n",
            "Epoch 87/100\n",
            "1198/1198 [==============================] - 14s 12ms/step - loss: 0.0011\n",
            "Epoch 88/100\n",
            "1198/1198 [==============================] - 15s 12ms/step - loss: 9.8575e-04\n",
            "Epoch 89/100\n",
            "1198/1198 [==============================] - 15s 12ms/step - loss: 0.0011\n",
            "Epoch 90/100\n",
            "1198/1198 [==============================] - 15s 12ms/step - loss: 0.0011\n",
            "Epoch 91/100\n",
            "1198/1198 [==============================] - 15s 12ms/step - loss: 0.0011\n",
            "Epoch 92/100\n",
            "1198/1198 [==============================] - 14s 12ms/step - loss: 0.0011\n",
            "Epoch 93/100\n",
            "1198/1198 [==============================] - 15s 12ms/step - loss: 0.0011\n",
            "Epoch 94/100\n",
            "1198/1198 [==============================] - 14s 12ms/step - loss: 9.8260e-04\n",
            "Epoch 95/100\n",
            "1198/1198 [==============================] - 14s 12ms/step - loss: 9.9602e-04\n",
            "Epoch 96/100\n",
            "1198/1198 [==============================] - 14s 12ms/step - loss: 9.8055e-04\n",
            "Epoch 97/100\n",
            "1198/1198 [==============================] - 15s 12ms/step - loss: 9.7559e-04\n",
            "Epoch 98/100\n",
            "1198/1198 [==============================] - 14s 12ms/step - loss: 0.0010\n",
            "Epoch 99/100\n",
            "1198/1198 [==============================] - 14s 12ms/step - loss: 9.8525e-04\n",
            "Epoch 100/100\n",
            "1198/1198 [==============================] - 14s 12ms/step - loss: 0.0010\n"
          ],
          "name": "stdout"
        },
        {
          "output_type": "execute_result",
          "data": {
            "text/plain": [
              "<keras.callbacks.callbacks.History at 0x7f0456944ef0>"
            ]
          },
          "metadata": {
            "tags": []
          },
          "execution_count": 58
        }
      ]
    },
    {
      "cell_type": "markdown",
      "metadata": {
        "id": "z54RSI2uFqbq",
        "colab_type": "text"
      },
      "source": [
        "# Step 5: Making the predictions and visualising the results"
      ]
    },
    {
      "cell_type": "code",
      "metadata": {
        "id": "TeIqWKhB-8Cl",
        "colab_type": "code",
        "colab": {}
      },
      "source": [
        "# Getting the real stock price of 2017\n",
        "dataset_test = pd.read_csv('/content/drive/My Drive/Stock-Price-Prediction-using-Keras-and-Recurrent-Neural-Networ-master/Stock-Price-Prediction-using-Keras-and-Recurrent-Neural-Networ-master/Google_Stock_Price_Test.csv')\n",
        "real_stock_price = dataset_test.iloc[:, 1:2].values"
      ],
      "execution_count": 0,
      "outputs": []
    },
    {
      "cell_type": "code",
      "metadata": {
        "id": "vZIp9Kp_Fvr6",
        "colab_type": "code",
        "colab": {}
      },
      "source": [
        "\n",
        "# Getting the predicted stock price of 2017\n",
        "dataset_total = pd.concat((dataset_train['Open'], dataset_test['Open']), axis = 0)\n",
        "inputs = dataset_total[len(dataset_total) - len(dataset_test) - 60:].values\n",
        "inputs = inputs.reshape(-1,1)\n",
        "inputs = sca.transform(inputs)\n",
        "X_test = []\n",
        "for i in range(60, 80):\n",
        "    X_test.append(inputs[i-60:i, 0])\n",
        "X_test = np.array(X_test)\n",
        "X_test = np.reshape(X_test, (X_test.shape[0], X_test.shape[1], 1))\n",
        "predicted_stock_price = regressor.predict(X_test)\n",
        "predicted_stock_price = sca.inverse_transform(predicted_stock_price)"
      ],
      "execution_count": 0,
      "outputs": []
    },
    {
      "cell_type": "code",
      "metadata": {
        "id": "UYDKKOZMF5to",
        "colab_type": "code",
        "outputId": "40dbf892-5c51-4d54-804e-c2cb825a86d3",
        "colab": {
          "base_uri": "https://localhost:8080/",
          "height": 295
        }
      },
      "source": [
        "# Visualising the results\n",
        "plt.plot(real_stock_price, color = 'red', label = 'Real Google Stock Price')\n",
        "plt.plot(predicted_stock_price, color = 'blue', label = 'Predicted Google Stock Price')\n",
        "plt.title('Google Stock Price Prediction')\n",
        "plt.xlabel('Time')\n",
        "plt.ylabel('Google Stock Price')\n",
        "plt.legend()\n",
        "plt.show()"
      ],
      "execution_count": 0,
      "outputs": [
        {
          "output_type": "display_data",
          "data": {
            "image/png": "[encoded data removed]",
            "text/plain": [
              "<Figure size 432x288 with 1 Axes>"
            ]
          },
          "metadata": {
            "tags": [],
            "needs_background": "light"
          }
        }
      ]
    }
  ]
}